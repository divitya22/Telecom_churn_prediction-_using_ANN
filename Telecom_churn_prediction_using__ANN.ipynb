{
  "nbformat": 4,
  "nbformat_minor": 0,
  "metadata": {
    "colab": {
      "name": "Telecom_churn_prediction using _ANN.ipynb",
      "provenance": [],
      "collapsed_sections": [],
      "include_colab_link": true
    },
    "kernelspec": {
      "name": "python3",
      "display_name": "Python 3"
    },
    "language_info": {
      "name": "python"
    }
  },
  "cells": [
    {
      "cell_type": "markdown",
      "metadata": {
        "id": "view-in-github",
        "colab_type": "text"
      },
      "source": [
        "<a href=\"https://colab.research.google.com/github/divitya22/Telecom_churn_prediction-_using_ANN/blob/main/Telecom_churn_prediction_using__ANN.ipynb\" target=\"_parent\"><img src=\"https://colab.research.google.com/assets/colab-badge.svg\" alt=\"Open In Colab\"/></a>"
      ]
    },
    {
      "cell_type": "code",
      "metadata": {
        "colab": {
          "base_uri": "https://localhost:8080/"
        },
        "id": "HmaJbr80FmPA",
        "outputId": "ad3310f0-1916-4b2a-b209-2136c1876ad4"
      },
      "source": [
        "from google.colab import drive\n",
        "drive.mount('/content/drive')"
      ],
      "execution_count": 1,
      "outputs": [
        {
          "output_type": "stream",
          "name": "stdout",
          "text": [
            "Drive already mounted at /content/drive; to attempt to forcibly remount, call drive.mount(\"/content/drive\", force_remount=True).\n"
          ]
        }
      ]
    },
    {
      "cell_type": "code",
      "metadata": {
        "id": "P3IlXDpiGD-G"
      },
      "source": [
        "# Import libraries\n",
        "\n",
        "import pandas as pd\n",
        "import numpy as np\n",
        "from matplotlib import pyplot as pyplot\n",
        "%matplotlib inline"
      ],
      "execution_count": 2,
      "outputs": []
    },
    {
      "cell_type": "code",
      "metadata": {
        "id": "E1ladvEtF4Fw"
      },
      "source": [
        "# Load dataset\n",
        "df=pd.read_csv(\"/content/drive/MyDrive/Colab Notebooks/Analyst project/WA_Fn-UseC_-Telco-Customer-Churn.csv\")"
      ],
      "execution_count": 3,
      "outputs": []
    },
    {
      "cell_type": "code",
      "metadata": {
        "colab": {
          "base_uri": "https://localhost:8080/",
          "height": 309
        },
        "id": "8UllNOE4GJCn",
        "outputId": "4101847a-2a9f-4b4e-d822-5df41ce5cb52"
      },
      "source": [
        "df.head()"
      ],
      "execution_count": 4,
      "outputs": [
        {
          "output_type": "execute_result",
          "data": {
            "text/html": [
              "<div>\n",
              "<style scoped>\n",
              "    .dataframe tbody tr th:only-of-type {\n",
              "        vertical-align: middle;\n",
              "    }\n",
              "\n",
              "    .dataframe tbody tr th {\n",
              "        vertical-align: top;\n",
              "    }\n",
              "\n",
              "    .dataframe thead th {\n",
              "        text-align: right;\n",
              "    }\n",
              "</style>\n",
              "<table border=\"1\" class=\"dataframe\">\n",
              "  <thead>\n",
              "    <tr style=\"text-align: right;\">\n",
              "      <th></th>\n",
              "      <th>customerID</th>\n",
              "      <th>gender</th>\n",
              "      <th>SeniorCitizen</th>\n",
              "      <th>Partner</th>\n",
              "      <th>Dependents</th>\n",
              "      <th>tenure</th>\n",
              "      <th>PhoneService</th>\n",
              "      <th>MultipleLines</th>\n",
              "      <th>InternetService</th>\n",
              "      <th>OnlineSecurity</th>\n",
              "      <th>OnlineBackup</th>\n",
              "      <th>DeviceProtection</th>\n",
              "      <th>TechSupport</th>\n",
              "      <th>StreamingTV</th>\n",
              "      <th>StreamingMovies</th>\n",
              "      <th>Contract</th>\n",
              "      <th>PaperlessBilling</th>\n",
              "      <th>PaymentMethod</th>\n",
              "      <th>MonthlyCharges</th>\n",
              "      <th>TotalCharges</th>\n",
              "      <th>Churn</th>\n",
              "    </tr>\n",
              "  </thead>\n",
              "  <tbody>\n",
              "    <tr>\n",
              "      <th>0</th>\n",
              "      <td>7590-VHVEG</td>\n",
              "      <td>Female</td>\n",
              "      <td>0</td>\n",
              "      <td>Yes</td>\n",
              "      <td>No</td>\n",
              "      <td>1</td>\n",
              "      <td>No</td>\n",
              "      <td>No phone service</td>\n",
              "      <td>DSL</td>\n",
              "      <td>No</td>\n",
              "      <td>Yes</td>\n",
              "      <td>No</td>\n",
              "      <td>No</td>\n",
              "      <td>No</td>\n",
              "      <td>No</td>\n",
              "      <td>Month-to-month</td>\n",
              "      <td>Yes</td>\n",
              "      <td>Electronic check</td>\n",
              "      <td>29.85</td>\n",
              "      <td>29.85</td>\n",
              "      <td>No</td>\n",
              "    </tr>\n",
              "    <tr>\n",
              "      <th>1</th>\n",
              "      <td>5575-GNVDE</td>\n",
              "      <td>Male</td>\n",
              "      <td>0</td>\n",
              "      <td>No</td>\n",
              "      <td>No</td>\n",
              "      <td>34</td>\n",
              "      <td>Yes</td>\n",
              "      <td>No</td>\n",
              "      <td>DSL</td>\n",
              "      <td>Yes</td>\n",
              "      <td>No</td>\n",
              "      <td>Yes</td>\n",
              "      <td>No</td>\n",
              "      <td>No</td>\n",
              "      <td>No</td>\n",
              "      <td>One year</td>\n",
              "      <td>No</td>\n",
              "      <td>Mailed check</td>\n",
              "      <td>56.95</td>\n",
              "      <td>1889.5</td>\n",
              "      <td>No</td>\n",
              "    </tr>\n",
              "    <tr>\n",
              "      <th>2</th>\n",
              "      <td>3668-QPYBK</td>\n",
              "      <td>Male</td>\n",
              "      <td>0</td>\n",
              "      <td>No</td>\n",
              "      <td>No</td>\n",
              "      <td>2</td>\n",
              "      <td>Yes</td>\n",
              "      <td>No</td>\n",
              "      <td>DSL</td>\n",
              "      <td>Yes</td>\n",
              "      <td>Yes</td>\n",
              "      <td>No</td>\n",
              "      <td>No</td>\n",
              "      <td>No</td>\n",
              "      <td>No</td>\n",
              "      <td>Month-to-month</td>\n",
              "      <td>Yes</td>\n",
              "      <td>Mailed check</td>\n",
              "      <td>53.85</td>\n",
              "      <td>108.15</td>\n",
              "      <td>Yes</td>\n",
              "    </tr>\n",
              "    <tr>\n",
              "      <th>3</th>\n",
              "      <td>7795-CFOCW</td>\n",
              "      <td>Male</td>\n",
              "      <td>0</td>\n",
              "      <td>No</td>\n",
              "      <td>No</td>\n",
              "      <td>45</td>\n",
              "      <td>No</td>\n",
              "      <td>No phone service</td>\n",
              "      <td>DSL</td>\n",
              "      <td>Yes</td>\n",
              "      <td>No</td>\n",
              "      <td>Yes</td>\n",
              "      <td>Yes</td>\n",
              "      <td>No</td>\n",
              "      <td>No</td>\n",
              "      <td>One year</td>\n",
              "      <td>No</td>\n",
              "      <td>Bank transfer (automatic)</td>\n",
              "      <td>42.30</td>\n",
              "      <td>1840.75</td>\n",
              "      <td>No</td>\n",
              "    </tr>\n",
              "    <tr>\n",
              "      <th>4</th>\n",
              "      <td>9237-HQITU</td>\n",
              "      <td>Female</td>\n",
              "      <td>0</td>\n",
              "      <td>No</td>\n",
              "      <td>No</td>\n",
              "      <td>2</td>\n",
              "      <td>Yes</td>\n",
              "      <td>No</td>\n",
              "      <td>Fiber optic</td>\n",
              "      <td>No</td>\n",
              "      <td>No</td>\n",
              "      <td>No</td>\n",
              "      <td>No</td>\n",
              "      <td>No</td>\n",
              "      <td>No</td>\n",
              "      <td>Month-to-month</td>\n",
              "      <td>Yes</td>\n",
              "      <td>Electronic check</td>\n",
              "      <td>70.70</td>\n",
              "      <td>151.65</td>\n",
              "      <td>Yes</td>\n",
              "    </tr>\n",
              "  </tbody>\n",
              "</table>\n",
              "</div>"
            ],
            "text/plain": [
              "   customerID  gender  SeniorCitizen  ... MonthlyCharges TotalCharges  Churn\n",
              "0  7590-VHVEG  Female              0  ...          29.85        29.85     No\n",
              "1  5575-GNVDE    Male              0  ...          56.95       1889.5     No\n",
              "2  3668-QPYBK    Male              0  ...          53.85       108.15    Yes\n",
              "3  7795-CFOCW    Male              0  ...          42.30      1840.75     No\n",
              "4  9237-HQITU  Female              0  ...          70.70       151.65    Yes\n",
              "\n",
              "[5 rows x 21 columns]"
            ]
          },
          "metadata": {},
          "execution_count": 4
        }
      ]
    },
    {
      "cell_type": "markdown",
      "metadata": {
        "id": "Uw2NbcjDK1BD"
      },
      "source": [
        "Drop the column customerID as it is of no use\n"
      ]
    },
    {
      "cell_type": "code",
      "metadata": {
        "id": "Yr8WUVyZK9Tv"
      },
      "source": [
        "df.drop(\"customerID\",axis=\"columns\",inplace=True)"
      ],
      "execution_count": 5,
      "outputs": []
    },
    {
      "cell_type": "code",
      "metadata": {
        "colab": {
          "base_uri": "https://localhost:8080/"
        },
        "id": "n2UFESbtNcIV",
        "outputId": "0ac0c41c-fae0-4e51-c0ea-533a93b9f3cf"
      },
      "source": [
        "df.dtypes\n"
      ],
      "execution_count": 6,
      "outputs": [
        {
          "output_type": "execute_result",
          "data": {
            "text/plain": [
              "gender               object\n",
              "SeniorCitizen         int64\n",
              "Partner              object\n",
              "Dependents           object\n",
              "tenure                int64\n",
              "PhoneService         object\n",
              "MultipleLines        object\n",
              "InternetService      object\n",
              "OnlineSecurity       object\n",
              "OnlineBackup         object\n",
              "DeviceProtection     object\n",
              "TechSupport          object\n",
              "StreamingTV          object\n",
              "StreamingMovies      object\n",
              "Contract             object\n",
              "PaperlessBilling     object\n",
              "PaymentMethod        object\n",
              "MonthlyCharges      float64\n",
              "TotalCharges         object\n",
              "Churn                object\n",
              "dtype: object"
            ]
          },
          "metadata": {},
          "execution_count": 6
        }
      ]
    },
    {
      "cell_type": "code",
      "metadata": {
        "colab": {
          "base_uri": "https://localhost:8080/"
        },
        "id": "HVhBxDHNNiQ3",
        "outputId": "456a675d-95c1-46e3-926e-75684cf561c8"
      },
      "source": [
        "df[\"TotalCharges\"].values # TotalCharges column is string ,It should be numeric type(int or float)"
      ],
      "execution_count": 7,
      "outputs": [
        {
          "output_type": "execute_result",
          "data": {
            "text/plain": [
              "array(['29.85', '1889.5', '108.15', ..., '346.45', '306.6', '6844.5'],\n",
              "      dtype=object)"
            ]
          },
          "metadata": {},
          "execution_count": 7
        }
      ]
    },
    {
      "cell_type": "code",
      "metadata": {
        "colab": {
          "base_uri": "https://localhost:8080/",
          "height": 436
        },
        "id": "uUG3_Tl4N5BC",
        "outputId": "9f231db6-d7cc-4d5e-ea4a-c94d790a6383"
      },
      "source": [
        "pd.to_numeric(df.TotalCharges)  # showing errors because some values having spaces "
      ],
      "execution_count": 8,
      "outputs": [
        {
          "output_type": "error",
          "ename": "ValueError",
          "evalue": "ignored",
          "traceback": [
            "\u001b[0;31m---------------------------------------------------------------------------\u001b[0m",
            "\u001b[0;31mValueError\u001b[0m                                Traceback (most recent call last)",
            "\u001b[0;32mpandas/_libs/lib.pyx\u001b[0m in \u001b[0;36mpandas._libs.lib.maybe_convert_numeric\u001b[0;34m()\u001b[0m\n",
            "\u001b[0;31mValueError\u001b[0m: Unable to parse string \" \"",
            "\nDuring handling of the above exception, another exception occurred:\n",
            "\u001b[0;31mValueError\u001b[0m                                Traceback (most recent call last)",
            "\u001b[0;32m<ipython-input-8-c90dfd01c45b>\u001b[0m in \u001b[0;36m<module>\u001b[0;34m()\u001b[0m\n\u001b[0;32m----> 1\u001b[0;31m \u001b[0mpd\u001b[0m\u001b[0;34m.\u001b[0m\u001b[0mto_numeric\u001b[0m\u001b[0;34m(\u001b[0m\u001b[0mdf\u001b[0m\u001b[0;34m.\u001b[0m\u001b[0mTotalCharges\u001b[0m\u001b[0;34m)\u001b[0m  \u001b[0;31m# showing errors because some values having spaces\u001b[0m\u001b[0;34m\u001b[0m\u001b[0;34m\u001b[0m\u001b[0m\n\u001b[0m",
            "\u001b[0;32m/usr/local/lib/python3.7/dist-packages/pandas/core/tools/numeric.py\u001b[0m in \u001b[0;36mto_numeric\u001b[0;34m(arg, errors, downcast)\u001b[0m\n\u001b[1;32m    151\u001b[0m         \u001b[0;32mtry\u001b[0m\u001b[0;34m:\u001b[0m\u001b[0;34m\u001b[0m\u001b[0;34m\u001b[0m\u001b[0m\n\u001b[1;32m    152\u001b[0m             values = lib.maybe_convert_numeric(\n\u001b[0;32m--> 153\u001b[0;31m                 \u001b[0mvalues\u001b[0m\u001b[0;34m,\u001b[0m \u001b[0mset\u001b[0m\u001b[0;34m(\u001b[0m\u001b[0;34m)\u001b[0m\u001b[0;34m,\u001b[0m \u001b[0mcoerce_numeric\u001b[0m\u001b[0;34m=\u001b[0m\u001b[0mcoerce_numeric\u001b[0m\u001b[0;34m\u001b[0m\u001b[0;34m\u001b[0m\u001b[0m\n\u001b[0m\u001b[1;32m    154\u001b[0m             )\n\u001b[1;32m    155\u001b[0m         \u001b[0;32mexcept\u001b[0m \u001b[0;34m(\u001b[0m\u001b[0mValueError\u001b[0m\u001b[0;34m,\u001b[0m \u001b[0mTypeError\u001b[0m\u001b[0;34m)\u001b[0m\u001b[0;34m:\u001b[0m\u001b[0;34m\u001b[0m\u001b[0;34m\u001b[0m\u001b[0m\n",
            "\u001b[0;32mpandas/_libs/lib.pyx\u001b[0m in \u001b[0;36mpandas._libs.lib.maybe_convert_numeric\u001b[0;34m()\u001b[0m\n",
            "\u001b[0;31mValueError\u001b[0m: Unable to parse string \" \" at position 488"
          ]
        }
      ]
    },
    {
      "cell_type": "code",
      "metadata": {
        "colab": {
          "base_uri": "https://localhost:8080/"
        },
        "id": "Mbi-hKH9OFA5",
        "outputId": "20d89c8e-6631-4274-c485-321d114b0ad4"
      },
      "source": [
        "pd.to_numeric(df.TotalCharges,errors=\"coerce\")"
      ],
      "execution_count": 9,
      "outputs": [
        {
          "output_type": "execute_result",
          "data": {
            "text/plain": [
              "0         29.85\n",
              "1       1889.50\n",
              "2        108.15\n",
              "3       1840.75\n",
              "4        151.65\n",
              "         ...   \n",
              "7038    1990.50\n",
              "7039    7362.90\n",
              "7040     346.45\n",
              "7041     306.60\n",
              "7042    6844.50\n",
              "Name: TotalCharges, Length: 7043, dtype: float64"
            ]
          },
          "metadata": {},
          "execution_count": 9
        }
      ]
    },
    {
      "cell_type": "code",
      "metadata": {
        "colab": {
          "base_uri": "https://localhost:8080/",
          "height": 563
        },
        "id": "95YTatA2OdMt",
        "outputId": "95b4aef5-a404-4671-e8bf-7dca15672870"
      },
      "source": [
        "df[pd.to_numeric(df.TotalCharges,errors=\"coerce\").isnull()]  #This will give us rows where TotalCharges is having null Values"
      ],
      "execution_count": 10,
      "outputs": [
        {
          "output_type": "execute_result",
          "data": {
            "text/html": [
              "<div>\n",
              "<style scoped>\n",
              "    .dataframe tbody tr th:only-of-type {\n",
              "        vertical-align: middle;\n",
              "    }\n",
              "\n",
              "    .dataframe tbody tr th {\n",
              "        vertical-align: top;\n",
              "    }\n",
              "\n",
              "    .dataframe thead th {\n",
              "        text-align: right;\n",
              "    }\n",
              "</style>\n",
              "<table border=\"1\" class=\"dataframe\">\n",
              "  <thead>\n",
              "    <tr style=\"text-align: right;\">\n",
              "      <th></th>\n",
              "      <th>gender</th>\n",
              "      <th>SeniorCitizen</th>\n",
              "      <th>Partner</th>\n",
              "      <th>Dependents</th>\n",
              "      <th>tenure</th>\n",
              "      <th>PhoneService</th>\n",
              "      <th>MultipleLines</th>\n",
              "      <th>InternetService</th>\n",
              "      <th>OnlineSecurity</th>\n",
              "      <th>OnlineBackup</th>\n",
              "      <th>DeviceProtection</th>\n",
              "      <th>TechSupport</th>\n",
              "      <th>StreamingTV</th>\n",
              "      <th>StreamingMovies</th>\n",
              "      <th>Contract</th>\n",
              "      <th>PaperlessBilling</th>\n",
              "      <th>PaymentMethod</th>\n",
              "      <th>MonthlyCharges</th>\n",
              "      <th>TotalCharges</th>\n",
              "      <th>Churn</th>\n",
              "    </tr>\n",
              "  </thead>\n",
              "  <tbody>\n",
              "    <tr>\n",
              "      <th>488</th>\n",
              "      <td>Female</td>\n",
              "      <td>0</td>\n",
              "      <td>Yes</td>\n",
              "      <td>Yes</td>\n",
              "      <td>0</td>\n",
              "      <td>No</td>\n",
              "      <td>No phone service</td>\n",
              "      <td>DSL</td>\n",
              "      <td>Yes</td>\n",
              "      <td>No</td>\n",
              "      <td>Yes</td>\n",
              "      <td>Yes</td>\n",
              "      <td>Yes</td>\n",
              "      <td>No</td>\n",
              "      <td>Two year</td>\n",
              "      <td>Yes</td>\n",
              "      <td>Bank transfer (automatic)</td>\n",
              "      <td>52.55</td>\n",
              "      <td></td>\n",
              "      <td>No</td>\n",
              "    </tr>\n",
              "    <tr>\n",
              "      <th>753</th>\n",
              "      <td>Male</td>\n",
              "      <td>0</td>\n",
              "      <td>No</td>\n",
              "      <td>Yes</td>\n",
              "      <td>0</td>\n",
              "      <td>Yes</td>\n",
              "      <td>No</td>\n",
              "      <td>No</td>\n",
              "      <td>No internet service</td>\n",
              "      <td>No internet service</td>\n",
              "      <td>No internet service</td>\n",
              "      <td>No internet service</td>\n",
              "      <td>No internet service</td>\n",
              "      <td>No internet service</td>\n",
              "      <td>Two year</td>\n",
              "      <td>No</td>\n",
              "      <td>Mailed check</td>\n",
              "      <td>20.25</td>\n",
              "      <td></td>\n",
              "      <td>No</td>\n",
              "    </tr>\n",
              "    <tr>\n",
              "      <th>936</th>\n",
              "      <td>Female</td>\n",
              "      <td>0</td>\n",
              "      <td>Yes</td>\n",
              "      <td>Yes</td>\n",
              "      <td>0</td>\n",
              "      <td>Yes</td>\n",
              "      <td>No</td>\n",
              "      <td>DSL</td>\n",
              "      <td>Yes</td>\n",
              "      <td>Yes</td>\n",
              "      <td>Yes</td>\n",
              "      <td>No</td>\n",
              "      <td>Yes</td>\n",
              "      <td>Yes</td>\n",
              "      <td>Two year</td>\n",
              "      <td>No</td>\n",
              "      <td>Mailed check</td>\n",
              "      <td>80.85</td>\n",
              "      <td></td>\n",
              "      <td>No</td>\n",
              "    </tr>\n",
              "    <tr>\n",
              "      <th>1082</th>\n",
              "      <td>Male</td>\n",
              "      <td>0</td>\n",
              "      <td>Yes</td>\n",
              "      <td>Yes</td>\n",
              "      <td>0</td>\n",
              "      <td>Yes</td>\n",
              "      <td>Yes</td>\n",
              "      <td>No</td>\n",
              "      <td>No internet service</td>\n",
              "      <td>No internet service</td>\n",
              "      <td>No internet service</td>\n",
              "      <td>No internet service</td>\n",
              "      <td>No internet service</td>\n",
              "      <td>No internet service</td>\n",
              "      <td>Two year</td>\n",
              "      <td>No</td>\n",
              "      <td>Mailed check</td>\n",
              "      <td>25.75</td>\n",
              "      <td></td>\n",
              "      <td>No</td>\n",
              "    </tr>\n",
              "    <tr>\n",
              "      <th>1340</th>\n",
              "      <td>Female</td>\n",
              "      <td>0</td>\n",
              "      <td>Yes</td>\n",
              "      <td>Yes</td>\n",
              "      <td>0</td>\n",
              "      <td>No</td>\n",
              "      <td>No phone service</td>\n",
              "      <td>DSL</td>\n",
              "      <td>Yes</td>\n",
              "      <td>Yes</td>\n",
              "      <td>Yes</td>\n",
              "      <td>Yes</td>\n",
              "      <td>Yes</td>\n",
              "      <td>No</td>\n",
              "      <td>Two year</td>\n",
              "      <td>No</td>\n",
              "      <td>Credit card (automatic)</td>\n",
              "      <td>56.05</td>\n",
              "      <td></td>\n",
              "      <td>No</td>\n",
              "    </tr>\n",
              "    <tr>\n",
              "      <th>3331</th>\n",
              "      <td>Male</td>\n",
              "      <td>0</td>\n",
              "      <td>Yes</td>\n",
              "      <td>Yes</td>\n",
              "      <td>0</td>\n",
              "      <td>Yes</td>\n",
              "      <td>No</td>\n",
              "      <td>No</td>\n",
              "      <td>No internet service</td>\n",
              "      <td>No internet service</td>\n",
              "      <td>No internet service</td>\n",
              "      <td>No internet service</td>\n",
              "      <td>No internet service</td>\n",
              "      <td>No internet service</td>\n",
              "      <td>Two year</td>\n",
              "      <td>No</td>\n",
              "      <td>Mailed check</td>\n",
              "      <td>19.85</td>\n",
              "      <td></td>\n",
              "      <td>No</td>\n",
              "    </tr>\n",
              "    <tr>\n",
              "      <th>3826</th>\n",
              "      <td>Male</td>\n",
              "      <td>0</td>\n",
              "      <td>Yes</td>\n",
              "      <td>Yes</td>\n",
              "      <td>0</td>\n",
              "      <td>Yes</td>\n",
              "      <td>Yes</td>\n",
              "      <td>No</td>\n",
              "      <td>No internet service</td>\n",
              "      <td>No internet service</td>\n",
              "      <td>No internet service</td>\n",
              "      <td>No internet service</td>\n",
              "      <td>No internet service</td>\n",
              "      <td>No internet service</td>\n",
              "      <td>Two year</td>\n",
              "      <td>No</td>\n",
              "      <td>Mailed check</td>\n",
              "      <td>25.35</td>\n",
              "      <td></td>\n",
              "      <td>No</td>\n",
              "    </tr>\n",
              "    <tr>\n",
              "      <th>4380</th>\n",
              "      <td>Female</td>\n",
              "      <td>0</td>\n",
              "      <td>Yes</td>\n",
              "      <td>Yes</td>\n",
              "      <td>0</td>\n",
              "      <td>Yes</td>\n",
              "      <td>No</td>\n",
              "      <td>No</td>\n",
              "      <td>No internet service</td>\n",
              "      <td>No internet service</td>\n",
              "      <td>No internet service</td>\n",
              "      <td>No internet service</td>\n",
              "      <td>No internet service</td>\n",
              "      <td>No internet service</td>\n",
              "      <td>Two year</td>\n",
              "      <td>No</td>\n",
              "      <td>Mailed check</td>\n",
              "      <td>20.00</td>\n",
              "      <td></td>\n",
              "      <td>No</td>\n",
              "    </tr>\n",
              "    <tr>\n",
              "      <th>5218</th>\n",
              "      <td>Male</td>\n",
              "      <td>0</td>\n",
              "      <td>Yes</td>\n",
              "      <td>Yes</td>\n",
              "      <td>0</td>\n",
              "      <td>Yes</td>\n",
              "      <td>No</td>\n",
              "      <td>No</td>\n",
              "      <td>No internet service</td>\n",
              "      <td>No internet service</td>\n",
              "      <td>No internet service</td>\n",
              "      <td>No internet service</td>\n",
              "      <td>No internet service</td>\n",
              "      <td>No internet service</td>\n",
              "      <td>One year</td>\n",
              "      <td>Yes</td>\n",
              "      <td>Mailed check</td>\n",
              "      <td>19.70</td>\n",
              "      <td></td>\n",
              "      <td>No</td>\n",
              "    </tr>\n",
              "    <tr>\n",
              "      <th>6670</th>\n",
              "      <td>Female</td>\n",
              "      <td>0</td>\n",
              "      <td>Yes</td>\n",
              "      <td>Yes</td>\n",
              "      <td>0</td>\n",
              "      <td>Yes</td>\n",
              "      <td>Yes</td>\n",
              "      <td>DSL</td>\n",
              "      <td>No</td>\n",
              "      <td>Yes</td>\n",
              "      <td>Yes</td>\n",
              "      <td>Yes</td>\n",
              "      <td>Yes</td>\n",
              "      <td>No</td>\n",
              "      <td>Two year</td>\n",
              "      <td>No</td>\n",
              "      <td>Mailed check</td>\n",
              "      <td>73.35</td>\n",
              "      <td></td>\n",
              "      <td>No</td>\n",
              "    </tr>\n",
              "    <tr>\n",
              "      <th>6754</th>\n",
              "      <td>Male</td>\n",
              "      <td>0</td>\n",
              "      <td>No</td>\n",
              "      <td>Yes</td>\n",
              "      <td>0</td>\n",
              "      <td>Yes</td>\n",
              "      <td>Yes</td>\n",
              "      <td>DSL</td>\n",
              "      <td>Yes</td>\n",
              "      <td>Yes</td>\n",
              "      <td>No</td>\n",
              "      <td>Yes</td>\n",
              "      <td>No</td>\n",
              "      <td>No</td>\n",
              "      <td>Two year</td>\n",
              "      <td>Yes</td>\n",
              "      <td>Bank transfer (automatic)</td>\n",
              "      <td>61.90</td>\n",
              "      <td></td>\n",
              "      <td>No</td>\n",
              "    </tr>\n",
              "  </tbody>\n",
              "</table>\n",
              "</div>"
            ],
            "text/plain": [
              "      gender  SeniorCitizen Partner  ... MonthlyCharges  TotalCharges Churn\n",
              "488   Female              0     Yes  ...          52.55                  No\n",
              "753     Male              0      No  ...          20.25                  No\n",
              "936   Female              0     Yes  ...          80.85                  No\n",
              "1082    Male              0     Yes  ...          25.75                  No\n",
              "1340  Female              0     Yes  ...          56.05                  No\n",
              "3331    Male              0     Yes  ...          19.85                  No\n",
              "3826    Male              0     Yes  ...          25.35                  No\n",
              "4380  Female              0     Yes  ...          20.00                  No\n",
              "5218    Male              0     Yes  ...          19.70                  No\n",
              "6670  Female              0     Yes  ...          73.35                  No\n",
              "6754    Male              0      No  ...          61.90                  No\n",
              "\n",
              "[11 rows x 20 columns]"
            ]
          },
          "metadata": {},
          "execution_count": 10
        }
      ]
    },
    {
      "cell_type": "code",
      "metadata": {
        "colab": {
          "base_uri": "https://localhost:8080/"
        },
        "id": "gSA41X3ZPAPa",
        "outputId": "d79c02c4-f6c8-440a-ec7e-d5afe870bb83"
      },
      "source": [
        "df[pd.to_numeric(df.TotalCharges,errors=\"coerce\").isnull()].shape # shape of table when value of TotalCharges is null"
      ],
      "execution_count": 11,
      "outputs": [
        {
          "output_type": "execute_result",
          "data": {
            "text/plain": [
              "(11, 20)"
            ]
          },
          "metadata": {},
          "execution_count": 11
        }
      ]
    },
    {
      "cell_type": "code",
      "metadata": {
        "id": "9bfy8FKaPkGp"
      },
      "source": [
        "df1=df[df.TotalCharges!=\" \"] # Removed all rows where TotalCharges=\" \" and new dataset is created named df1\n"
      ],
      "execution_count": 12,
      "outputs": []
    },
    {
      "cell_type": "code",
      "metadata": {
        "colab": {
          "base_uri": "https://localhost:8080/"
        },
        "id": "5Dc4R7x0QBOo",
        "outputId": "51e31c75-2d7f-402a-a5e8-9de51976aea4"
      },
      "source": [
        "df1.shape"
      ],
      "execution_count": 13,
      "outputs": [
        {
          "output_type": "execute_result",
          "data": {
            "text/plain": [
              "(7032, 20)"
            ]
          },
          "metadata": {},
          "execution_count": 13
        }
      ]
    },
    {
      "cell_type": "code",
      "metadata": {
        "colab": {
          "base_uri": "https://localhost:8080/"
        },
        "id": "bxaY2GM_QfPC",
        "outputId": "8a657b71-9f57-406a-e316-24cc6485ccac"
      },
      "source": [
        "df1.dtypes"
      ],
      "execution_count": 14,
      "outputs": [
        {
          "output_type": "execute_result",
          "data": {
            "text/plain": [
              "gender               object\n",
              "SeniorCitizen         int64\n",
              "Partner              object\n",
              "Dependents           object\n",
              "tenure                int64\n",
              "PhoneService         object\n",
              "MultipleLines        object\n",
              "InternetService      object\n",
              "OnlineSecurity       object\n",
              "OnlineBackup         object\n",
              "DeviceProtection     object\n",
              "TechSupport          object\n",
              "StreamingTV          object\n",
              "StreamingMovies      object\n",
              "Contract             object\n",
              "PaperlessBilling     object\n",
              "PaymentMethod        object\n",
              "MonthlyCharges      float64\n",
              "TotalCharges         object\n",
              "Churn                object\n",
              "dtype: object"
            ]
          },
          "metadata": {},
          "execution_count": 14
        }
      ]
    },
    {
      "cell_type": "code",
      "metadata": {
        "colab": {
          "base_uri": "https://localhost:8080/"
        },
        "id": "bfP8xMR6Qk9s",
        "outputId": "cb57e75b-531e-498e-def1-0cc2c44fa2b8"
      },
      "source": [
        "# still total charges is showing data type object , Now change it into numeric\n",
        "\n",
        "df1.TotalCharges=pd.to_numeric(df1.TotalCharges)\n",
        "df1.TotalCharges"
      ],
      "execution_count": 15,
      "outputs": [
        {
          "output_type": "stream",
          "name": "stderr",
          "text": [
            "/usr/local/lib/python3.7/dist-packages/pandas/core/generic.py:5170: SettingWithCopyWarning: \n",
            "A value is trying to be set on a copy of a slice from a DataFrame.\n",
            "Try using .loc[row_indexer,col_indexer] = value instead\n",
            "\n",
            "See the caveats in the documentation: https://pandas.pydata.org/pandas-docs/stable/user_guide/indexing.html#returning-a-view-versus-a-copy\n",
            "  self[name] = value\n"
          ]
        },
        {
          "output_type": "execute_result",
          "data": {
            "text/plain": [
              "0         29.85\n",
              "1       1889.50\n",
              "2        108.15\n",
              "3       1840.75\n",
              "4        151.65\n",
              "         ...   \n",
              "7038    1990.50\n",
              "7039    7362.90\n",
              "7040     346.45\n",
              "7041     306.60\n",
              "7042    6844.50\n",
              "Name: TotalCharges, Length: 7032, dtype: float64"
            ]
          },
          "metadata": {},
          "execution_count": 15
        }
      ]
    },
    {
      "cell_type": "code",
      "metadata": {
        "colab": {
          "base_uri": "https://localhost:8080/"
        },
        "id": "cpbviHd-RKgB",
        "outputId": "940b9941-3740-4594-a0bf-ac64faf3766a"
      },
      "source": [
        "df1.dtypes"
      ],
      "execution_count": 16,
      "outputs": [
        {
          "output_type": "execute_result",
          "data": {
            "text/plain": [
              "gender               object\n",
              "SeniorCitizen         int64\n",
              "Partner              object\n",
              "Dependents           object\n",
              "tenure                int64\n",
              "PhoneService         object\n",
              "MultipleLines        object\n",
              "InternetService      object\n",
              "OnlineSecurity       object\n",
              "OnlineBackup         object\n",
              "DeviceProtection     object\n",
              "TechSupport          object\n",
              "StreamingTV          object\n",
              "StreamingMovies      object\n",
              "Contract             object\n",
              "PaperlessBilling     object\n",
              "PaymentMethod        object\n",
              "MonthlyCharges      float64\n",
              "TotalCharges        float64\n",
              "Churn                object\n",
              "dtype: object"
            ]
          },
          "metadata": {},
          "execution_count": 16
        }
      ]
    },
    {
      "cell_type": "code",
      "metadata": {
        "id": "MIq8CJNjRnqn"
      },
      "source": [
        " # We have a column --Tenure-- , higher the tenure more loyal the customer because he is using services for long time\n",
        "\n",
        "\n",
        " "
      ],
      "execution_count": null,
      "outputs": []
    },
    {
      "cell_type": "code",
      "metadata": {
        "colab": {
          "base_uri": "https://localhost:8080/",
          "height": 575
        },
        "id": "reLFSNyyReXi",
        "outputId": "721b30b0-ced6-4452-ddc0-7323a6d94534"
      },
      "source": [
        "df1[df1.Churn==\"No\"] # Dataset crteated where target is no (Customer not leaving)"
      ],
      "execution_count": 17,
      "outputs": [
        {
          "output_type": "execute_result",
          "data": {
            "text/html": [
              "<div>\n",
              "<style scoped>\n",
              "    .dataframe tbody tr th:only-of-type {\n",
              "        vertical-align: middle;\n",
              "    }\n",
              "\n",
              "    .dataframe tbody tr th {\n",
              "        vertical-align: top;\n",
              "    }\n",
              "\n",
              "    .dataframe thead th {\n",
              "        text-align: right;\n",
              "    }\n",
              "</style>\n",
              "<table border=\"1\" class=\"dataframe\">\n",
              "  <thead>\n",
              "    <tr style=\"text-align: right;\">\n",
              "      <th></th>\n",
              "      <th>gender</th>\n",
              "      <th>SeniorCitizen</th>\n",
              "      <th>Partner</th>\n",
              "      <th>Dependents</th>\n",
              "      <th>tenure</th>\n",
              "      <th>PhoneService</th>\n",
              "      <th>MultipleLines</th>\n",
              "      <th>InternetService</th>\n",
              "      <th>OnlineSecurity</th>\n",
              "      <th>OnlineBackup</th>\n",
              "      <th>DeviceProtection</th>\n",
              "      <th>TechSupport</th>\n",
              "      <th>StreamingTV</th>\n",
              "      <th>StreamingMovies</th>\n",
              "      <th>Contract</th>\n",
              "      <th>PaperlessBilling</th>\n",
              "      <th>PaymentMethod</th>\n",
              "      <th>MonthlyCharges</th>\n",
              "      <th>TotalCharges</th>\n",
              "      <th>Churn</th>\n",
              "    </tr>\n",
              "  </thead>\n",
              "  <tbody>\n",
              "    <tr>\n",
              "      <th>0</th>\n",
              "      <td>Female</td>\n",
              "      <td>0</td>\n",
              "      <td>Yes</td>\n",
              "      <td>No</td>\n",
              "      <td>1</td>\n",
              "      <td>No</td>\n",
              "      <td>No phone service</td>\n",
              "      <td>DSL</td>\n",
              "      <td>No</td>\n",
              "      <td>Yes</td>\n",
              "      <td>No</td>\n",
              "      <td>No</td>\n",
              "      <td>No</td>\n",
              "      <td>No</td>\n",
              "      <td>Month-to-month</td>\n",
              "      <td>Yes</td>\n",
              "      <td>Electronic check</td>\n",
              "      <td>29.85</td>\n",
              "      <td>29.85</td>\n",
              "      <td>No</td>\n",
              "    </tr>\n",
              "    <tr>\n",
              "      <th>1</th>\n",
              "      <td>Male</td>\n",
              "      <td>0</td>\n",
              "      <td>No</td>\n",
              "      <td>No</td>\n",
              "      <td>34</td>\n",
              "      <td>Yes</td>\n",
              "      <td>No</td>\n",
              "      <td>DSL</td>\n",
              "      <td>Yes</td>\n",
              "      <td>No</td>\n",
              "      <td>Yes</td>\n",
              "      <td>No</td>\n",
              "      <td>No</td>\n",
              "      <td>No</td>\n",
              "      <td>One year</td>\n",
              "      <td>No</td>\n",
              "      <td>Mailed check</td>\n",
              "      <td>56.95</td>\n",
              "      <td>1889.50</td>\n",
              "      <td>No</td>\n",
              "    </tr>\n",
              "    <tr>\n",
              "      <th>3</th>\n",
              "      <td>Male</td>\n",
              "      <td>0</td>\n",
              "      <td>No</td>\n",
              "      <td>No</td>\n",
              "      <td>45</td>\n",
              "      <td>No</td>\n",
              "      <td>No phone service</td>\n",
              "      <td>DSL</td>\n",
              "      <td>Yes</td>\n",
              "      <td>No</td>\n",
              "      <td>Yes</td>\n",
              "      <td>Yes</td>\n",
              "      <td>No</td>\n",
              "      <td>No</td>\n",
              "      <td>One year</td>\n",
              "      <td>No</td>\n",
              "      <td>Bank transfer (automatic)</td>\n",
              "      <td>42.30</td>\n",
              "      <td>1840.75</td>\n",
              "      <td>No</td>\n",
              "    </tr>\n",
              "    <tr>\n",
              "      <th>6</th>\n",
              "      <td>Male</td>\n",
              "      <td>0</td>\n",
              "      <td>No</td>\n",
              "      <td>Yes</td>\n",
              "      <td>22</td>\n",
              "      <td>Yes</td>\n",
              "      <td>Yes</td>\n",
              "      <td>Fiber optic</td>\n",
              "      <td>No</td>\n",
              "      <td>Yes</td>\n",
              "      <td>No</td>\n",
              "      <td>No</td>\n",
              "      <td>Yes</td>\n",
              "      <td>No</td>\n",
              "      <td>Month-to-month</td>\n",
              "      <td>Yes</td>\n",
              "      <td>Credit card (automatic)</td>\n",
              "      <td>89.10</td>\n",
              "      <td>1949.40</td>\n",
              "      <td>No</td>\n",
              "    </tr>\n",
              "    <tr>\n",
              "      <th>7</th>\n",
              "      <td>Female</td>\n",
              "      <td>0</td>\n",
              "      <td>No</td>\n",
              "      <td>No</td>\n",
              "      <td>10</td>\n",
              "      <td>No</td>\n",
              "      <td>No phone service</td>\n",
              "      <td>DSL</td>\n",
              "      <td>Yes</td>\n",
              "      <td>No</td>\n",
              "      <td>No</td>\n",
              "      <td>No</td>\n",
              "      <td>No</td>\n",
              "      <td>No</td>\n",
              "      <td>Month-to-month</td>\n",
              "      <td>No</td>\n",
              "      <td>Mailed check</td>\n",
              "      <td>29.75</td>\n",
              "      <td>301.90</td>\n",
              "      <td>No</td>\n",
              "    </tr>\n",
              "    <tr>\n",
              "      <th>...</th>\n",
              "      <td>...</td>\n",
              "      <td>...</td>\n",
              "      <td>...</td>\n",
              "      <td>...</td>\n",
              "      <td>...</td>\n",
              "      <td>...</td>\n",
              "      <td>...</td>\n",
              "      <td>...</td>\n",
              "      <td>...</td>\n",
              "      <td>...</td>\n",
              "      <td>...</td>\n",
              "      <td>...</td>\n",
              "      <td>...</td>\n",
              "      <td>...</td>\n",
              "      <td>...</td>\n",
              "      <td>...</td>\n",
              "      <td>...</td>\n",
              "      <td>...</td>\n",
              "      <td>...</td>\n",
              "      <td>...</td>\n",
              "    </tr>\n",
              "    <tr>\n",
              "      <th>7037</th>\n",
              "      <td>Female</td>\n",
              "      <td>0</td>\n",
              "      <td>No</td>\n",
              "      <td>No</td>\n",
              "      <td>72</td>\n",
              "      <td>Yes</td>\n",
              "      <td>No</td>\n",
              "      <td>No</td>\n",
              "      <td>No internet service</td>\n",
              "      <td>No internet service</td>\n",
              "      <td>No internet service</td>\n",
              "      <td>No internet service</td>\n",
              "      <td>No internet service</td>\n",
              "      <td>No internet service</td>\n",
              "      <td>Two year</td>\n",
              "      <td>Yes</td>\n",
              "      <td>Bank transfer (automatic)</td>\n",
              "      <td>21.15</td>\n",
              "      <td>1419.40</td>\n",
              "      <td>No</td>\n",
              "    </tr>\n",
              "    <tr>\n",
              "      <th>7038</th>\n",
              "      <td>Male</td>\n",
              "      <td>0</td>\n",
              "      <td>Yes</td>\n",
              "      <td>Yes</td>\n",
              "      <td>24</td>\n",
              "      <td>Yes</td>\n",
              "      <td>Yes</td>\n",
              "      <td>DSL</td>\n",
              "      <td>Yes</td>\n",
              "      <td>No</td>\n",
              "      <td>Yes</td>\n",
              "      <td>Yes</td>\n",
              "      <td>Yes</td>\n",
              "      <td>Yes</td>\n",
              "      <td>One year</td>\n",
              "      <td>Yes</td>\n",
              "      <td>Mailed check</td>\n",
              "      <td>84.80</td>\n",
              "      <td>1990.50</td>\n",
              "      <td>No</td>\n",
              "    </tr>\n",
              "    <tr>\n",
              "      <th>7039</th>\n",
              "      <td>Female</td>\n",
              "      <td>0</td>\n",
              "      <td>Yes</td>\n",
              "      <td>Yes</td>\n",
              "      <td>72</td>\n",
              "      <td>Yes</td>\n",
              "      <td>Yes</td>\n",
              "      <td>Fiber optic</td>\n",
              "      <td>No</td>\n",
              "      <td>Yes</td>\n",
              "      <td>Yes</td>\n",
              "      <td>No</td>\n",
              "      <td>Yes</td>\n",
              "      <td>Yes</td>\n",
              "      <td>One year</td>\n",
              "      <td>Yes</td>\n",
              "      <td>Credit card (automatic)</td>\n",
              "      <td>103.20</td>\n",
              "      <td>7362.90</td>\n",
              "      <td>No</td>\n",
              "    </tr>\n",
              "    <tr>\n",
              "      <th>7040</th>\n",
              "      <td>Female</td>\n",
              "      <td>0</td>\n",
              "      <td>Yes</td>\n",
              "      <td>Yes</td>\n",
              "      <td>11</td>\n",
              "      <td>No</td>\n",
              "      <td>No phone service</td>\n",
              "      <td>DSL</td>\n",
              "      <td>Yes</td>\n",
              "      <td>No</td>\n",
              "      <td>No</td>\n",
              "      <td>No</td>\n",
              "      <td>No</td>\n",
              "      <td>No</td>\n",
              "      <td>Month-to-month</td>\n",
              "      <td>Yes</td>\n",
              "      <td>Electronic check</td>\n",
              "      <td>29.60</td>\n",
              "      <td>346.45</td>\n",
              "      <td>No</td>\n",
              "    </tr>\n",
              "    <tr>\n",
              "      <th>7042</th>\n",
              "      <td>Male</td>\n",
              "      <td>0</td>\n",
              "      <td>No</td>\n",
              "      <td>No</td>\n",
              "      <td>66</td>\n",
              "      <td>Yes</td>\n",
              "      <td>No</td>\n",
              "      <td>Fiber optic</td>\n",
              "      <td>Yes</td>\n",
              "      <td>No</td>\n",
              "      <td>Yes</td>\n",
              "      <td>Yes</td>\n",
              "      <td>Yes</td>\n",
              "      <td>Yes</td>\n",
              "      <td>Two year</td>\n",
              "      <td>Yes</td>\n",
              "      <td>Bank transfer (automatic)</td>\n",
              "      <td>105.65</td>\n",
              "      <td>6844.50</td>\n",
              "      <td>No</td>\n",
              "    </tr>\n",
              "  </tbody>\n",
              "</table>\n",
              "<p>5163 rows × 20 columns</p>\n",
              "</div>"
            ],
            "text/plain": [
              "      gender  SeniorCitizen Partner  ... MonthlyCharges  TotalCharges Churn\n",
              "0     Female              0     Yes  ...          29.85         29.85    No\n",
              "1       Male              0      No  ...          56.95       1889.50    No\n",
              "3       Male              0      No  ...          42.30       1840.75    No\n",
              "6       Male              0      No  ...          89.10       1949.40    No\n",
              "7     Female              0      No  ...          29.75        301.90    No\n",
              "...      ...            ...     ...  ...            ...           ...   ...\n",
              "7037  Female              0      No  ...          21.15       1419.40    No\n",
              "7038    Male              0     Yes  ...          84.80       1990.50    No\n",
              "7039  Female              0     Yes  ...         103.20       7362.90    No\n",
              "7040  Female              0     Yes  ...          29.60        346.45    No\n",
              "7042    Male              0      No  ...         105.65       6844.50    No\n",
              "\n",
              "[5163 rows x 20 columns]"
            ]
          },
          "metadata": {},
          "execution_count": 17
        }
      ]
    },
    {
      "cell_type": "code",
      "metadata": {
        "id": "B7M_MqKDSkO1"
      },
      "source": [
        "tenure_churn_no=df1[df1.Churn==\"No\"].tenure     # 2 datsets created based on tenure\n",
        "tenure_churn_yes=df1[df1.Churn==\"Yes\"].tenure"
      ],
      "execution_count": 18,
      "outputs": []
    },
    {
      "cell_type": "code",
      "metadata": {
        "colab": {
          "base_uri": "https://localhost:8080/",
          "height": 366
        },
        "id": "poTbRJbUS3pP",
        "outputId": "636c6665-759a-4790-c8b7-5b038d4d67b8"
      },
      "source": [
        "pyplot.hist([tenure_churn_yes,tenure_churn_no],color=[\"Green\",\"Red\"],label=[\"churn_yes\",\"churn_no\"])\n",
        "pyplot.xlabel(\"Tenure\")\n",
        "pyplot.ylabel(\"Number of Customer\")\n",
        "pyplot.title(\"Customer churn prediction visualization\")\n",
        "pyplot.legend()"
      ],
      "execution_count": 19,
      "outputs": [
        {
          "output_type": "stream",
          "name": "stderr",
          "text": [
            "/usr/local/lib/python3.7/dist-packages/numpy/core/_asarray.py:83: VisibleDeprecationWarning: Creating an ndarray from ragged nested sequences (which is a list-or-tuple of lists-or-tuples-or ndarrays with different lengths or shapes) is deprecated. If you meant to do this, you must specify 'dtype=object' when creating the ndarray\n",
            "  return array(a, dtype, copy=False, order=order)\n"
          ]
        },
        {
          "output_type": "execute_result",
          "data": {
            "text/plain": [
              "<matplotlib.legend.Legend at 0x7f8814a8de90>"
            ]
          },
          "metadata": {},
          "execution_count": 19
        },
        {
          "output_type": "display_data",
          "data": {
            "image/png": "[encoded data removed]",
            "text/plain": [
              "<Figure size 432x288 with 1 Axes>"
            ]
          },
          "metadata": {
            "needs_background": "light"
          }
        }
      ]
    },
    {
      "cell_type": "code",
      "metadata": {
        "id": "g2fwSFkrU09f"
      },
      "source": [
        "# We have a column --monthlycharges--  , same we did for monthly charges as we did for TENURE COLUMn"
      ],
      "execution_count": null,
      "outputs": []
    },
    {
      "cell_type": "code",
      "metadata": {
        "id": "rSiyraAlVWkF"
      },
      "source": [
        "mc_churn_no=df1[df1.Churn==\"No\"].MonthlyCharges     # 2 datsets created based on MonthlyCharges\n",
        "mc_churn_yes=df1[df1.Churn==\"Yes\"].MonthlyCharges"
      ],
      "execution_count": 20,
      "outputs": []
    },
    {
      "cell_type": "code",
      "metadata": {
        "colab": {
          "base_uri": "https://localhost:8080/",
          "height": 366
        },
        "id": "aVOZvsi2VzXC",
        "outputId": "7f57226e-97c8-4848-afaa-ceb31c035f19"
      },
      "source": [
        "pyplot.hist([mc_churn_yes,mc_churn_no],color=[\"Green\",\"Red\"],label=[\"churn_yes\",\"churn_no\"])\n",
        "pyplot.xlabel(\"MonthlyCharges\")\n",
        "pyplot.ylabel(\"Number of Customer\")\n",
        "pyplot.title(\"Customer churn prediction visualization\")\n",
        "pyplot.legend()"
      ],
      "execution_count": 21,
      "outputs": [
        {
          "output_type": "stream",
          "name": "stderr",
          "text": [
            "/usr/local/lib/python3.7/dist-packages/numpy/core/_asarray.py:83: VisibleDeprecationWarning: Creating an ndarray from ragged nested sequences (which is a list-or-tuple of lists-or-tuples-or ndarrays with different lengths or shapes) is deprecated. If you meant to do this, you must specify 'dtype=object' when creating the ndarray\n",
            "  return array(a, dtype, copy=False, order=order)\n"
          ]
        },
        {
          "output_type": "execute_result",
          "data": {
            "text/plain": [
              "<matplotlib.legend.Legend at 0x7f8814986c10>"
            ]
          },
          "metadata": {},
          "execution_count": 21
        },
        {
          "output_type": "display_data",
          "data": {
            "image/png": "[encoded data removed]",
            "text/plain": [
              "<Figure size 432x288 with 1 Axes>"
            ]
          },
          "metadata": {
            "needs_background": "light"
          }
        }
      ]
    },
    {
      "cell_type": "code",
      "metadata": {
        "id": "2OHXrncgcvjk"
      },
      "source": [
        "# Now we can see unique values of each column having object datatype\n",
        "\n",
        "def print_col_unique_values(df):\n",
        "  for column in df:\n",
        "    if df[column].dtypes==\"object\":\n",
        "      print(f'{column} : {df[column].unique()}')"
      ],
      "execution_count": 22,
      "outputs": []
    },
    {
      "cell_type": "code",
      "metadata": {
        "colab": {
          "base_uri": "https://localhost:8080/"
        },
        "id": "QIHNCAFueU_F",
        "outputId": "3811a032-69b6-4a82-bbeb-be9fdd685eda"
      },
      "source": [
        " print_col_unique_values(df1)"
      ],
      "execution_count": 23,
      "outputs": [
        {
          "output_type": "stream",
          "name": "stdout",
          "text": [
            "gender : ['Female' 'Male']\n",
            "Partner : ['Yes' 'No']\n",
            "Dependents : ['No' 'Yes']\n",
            "PhoneService : ['No' 'Yes']\n",
            "MultipleLines : ['No phone service' 'No' 'Yes']\n",
            "InternetService : ['DSL' 'Fiber optic' 'No']\n",
            "OnlineSecurity : ['No' 'Yes' 'No internet service']\n",
            "OnlineBackup : ['Yes' 'No' 'No internet service']\n",
            "DeviceProtection : ['No' 'Yes' 'No internet service']\n",
            "TechSupport : ['No' 'Yes' 'No internet service']\n",
            "StreamingTV : ['No' 'Yes' 'No internet service']\n",
            "StreamingMovies : ['No' 'Yes' 'No internet service']\n",
            "Contract : ['Month-to-month' 'One year' 'Two year']\n",
            "PaperlessBilling : ['Yes' 'No']\n",
            "PaymentMethod : ['Electronic check' 'Mailed check' 'Bank transfer (automatic)'\n",
            " 'Credit card (automatic)']\n",
            "Churn : ['No' 'Yes']\n"
          ]
        }
      ]
    },
    {
      "cell_type": "code",
      "metadata": {
        "id": "jMDMmBezfRY7"
      },
      "source": [
        "# In column --OnlineSecurity-- \"no internet service\" and \" no\". means same . so we can repalce \"no internet security\" by \"no\"\n",
        "# also repalce \"no phone service with \"no\""
      ],
      "execution_count": null,
      "outputs": []
    },
    {
      "cell_type": "code",
      "metadata": {
        "colab": {
          "base_uri": "https://localhost:8080/"
        },
        "id": "RqWMc1eCfyez",
        "outputId": "92ae4e91-3eba-45dc-9180-0e6b8bb91e59"
      },
      "source": [
        "df1.replace(\"No internet service\",\"No\",inplace=True)\n",
        "df1.replace(\"No phone service\",\"No\",inplace=True)\n"
      ],
      "execution_count": 24,
      "outputs": [
        {
          "output_type": "stream",
          "name": "stderr",
          "text": [
            "/usr/local/lib/python3.7/dist-packages/pandas/core/frame.py:4389: SettingWithCopyWarning: \n",
            "A value is trying to be set on a copy of a slice from a DataFrame\n",
            "\n",
            "See the caveats in the documentation: https://pandas.pydata.org/pandas-docs/stable/user_guide/indexing.html#returning-a-view-versus-a-copy\n",
            "  method=method,\n"
          ]
        }
      ]
    },
    {
      "cell_type": "code",
      "metadata": {
        "colab": {
          "base_uri": "https://localhost:8080/"
        },
        "id": "PBCmoQ5gglnQ",
        "outputId": "8e63f92b-ae08-4539-ac3f-88e96ed5f7e9"
      },
      "source": [
        " print_col_unique_values(df1)"
      ],
      "execution_count": 25,
      "outputs": [
        {
          "output_type": "stream",
          "name": "stdout",
          "text": [
            "gender : ['Female' 'Male']\n",
            "Partner : ['Yes' 'No']\n",
            "Dependents : ['No' 'Yes']\n",
            "PhoneService : ['No' 'Yes']\n",
            "MultipleLines : ['No' 'Yes']\n",
            "InternetService : ['DSL' 'Fiber optic' 'No']\n",
            "OnlineSecurity : ['No' 'Yes']\n",
            "OnlineBackup : ['Yes' 'No']\n",
            "DeviceProtection : ['No' 'Yes']\n",
            "TechSupport : ['No' 'Yes']\n",
            "StreamingTV : ['No' 'Yes']\n",
            "StreamingMovies : ['No' 'Yes']\n",
            "Contract : ['Month-to-month' 'One year' 'Two year']\n",
            "PaperlessBilling : ['Yes' 'No']\n",
            "PaymentMethod : ['Electronic check' 'Mailed check' 'Bank transfer (automatic)'\n",
            " 'Credit card (automatic)']\n",
            "Churn : ['No' 'Yes']\n"
          ]
        }
      ]
    },
    {
      "cell_type": "code",
      "metadata": {
        "id": "Y3jYwVtwgpVv"
      },
      "source": [
        " # Create a list of all object type columns where we have 2 categories yes or no"
      ],
      "execution_count": null,
      "outputs": []
    },
    {
      "cell_type": "code",
      "metadata": {
        "id": "FGg-0sMDhJJx"
      },
      "source": [
        "yes_no_columns=[\"Partner\",\"Dependents\",\"PhoneService\",\"MultipleLines\",\"OnlineSecurity\",\"OnlineBackup\",\"DeviceProtection\",\"TechSupport\",\n",
        "                \"StreamingTV\",\"StreamingMovies\",\"PaperlessBilling\",\"Churn\"]"
      ],
      "execution_count": 26,
      "outputs": []
    },
    {
      "cell_type": "code",
      "metadata": {
        "id": "EHmi5f-qhbV3",
        "colab": {
          "base_uri": "https://localhost:8080/"
        },
        "outputId": "652286a8-d2ed-4629-beb8-0e5b36a015dc"
      },
      "source": [
        "for col in yes_no_columns:\n",
        "  df1[col].replace({\"Yes\":1,\"No\":0},inplace=True)"
      ],
      "execution_count": 27,
      "outputs": [
        {
          "output_type": "stream",
          "name": "stderr",
          "text": [
            "/usr/local/lib/python3.7/dist-packages/pandas/core/series.py:4582: SettingWithCopyWarning: \n",
            "A value is trying to be set on a copy of a slice from a DataFrame\n",
            "\n",
            "See the caveats in the documentation: https://pandas.pydata.org/pandas-docs/stable/user_guide/indexing.html#returning-a-view-versus-a-copy\n",
            "  method=method,\n"
          ]
        }
      ]
    },
    {
      "cell_type": "code",
      "metadata": {
        "colab": {
          "base_uri": "https://localhost:8080/"
        },
        "id": "LFCJUqP7iJcm",
        "outputId": "15f2fba4-eef4-42d4-e629-6659ee5f9552"
      },
      "source": [
        "for column in df1:\n",
        "  print(f'{column} : {df1[column].unique()}')\n",
        "\n",
        "# Now we will see where in dataset we have \"yes\" we replace it with --1 and where there is \"No\" repalce it with --0"
      ],
      "execution_count": 28,
      "outputs": [
        {
          "output_type": "stream",
          "name": "stdout",
          "text": [
            "gender : ['Female' 'Male']\n",
            "SeniorCitizen : [0 1]\n",
            "Partner : [1 0]\n",
            "Dependents : [0 1]\n",
            "tenure : [ 1 34  2 45  8 22 10 28 62 13 16 58 49 25 69 52 71 21 12 30 47 72 17 27\n",
            "  5 46 11 70 63 43 15 60 18 66  9  3 31 50 64 56  7 42 35 48 29 65 38 68\n",
            " 32 55 37 36 41  6  4 33 67 23 57 61 14 20 53 40 59 24 44 19 54 51 26 39]\n",
            "PhoneService : [0 1]\n",
            "MultipleLines : [0 1]\n",
            "InternetService : ['DSL' 'Fiber optic' 'No']\n",
            "OnlineSecurity : [0 1]\n",
            "OnlineBackup : [1 0]\n",
            "DeviceProtection : [0 1]\n",
            "TechSupport : [0 1]\n",
            "StreamingTV : [0 1]\n",
            "StreamingMovies : [0 1]\n",
            "Contract : ['Month-to-month' 'One year' 'Two year']\n",
            "PaperlessBilling : [1 0]\n",
            "PaymentMethod : ['Electronic check' 'Mailed check' 'Bank transfer (automatic)'\n",
            " 'Credit card (automatic)']\n",
            "MonthlyCharges : [29.85 56.95 53.85 ... 63.1  44.2  78.7 ]\n",
            "TotalCharges : [  29.85 1889.5   108.15 ...  346.45  306.6  6844.5 ]\n",
            "Churn : [0 1]\n"
          ]
        }
      ]
    },
    {
      "cell_type": "code",
      "metadata": {
        "colab": {
          "base_uri": "https://localhost:8080/"
        },
        "id": "PS3QXarmi8_4",
        "outputId": "a207d40f-e732-4ae4-9c27-7cfde035beb8"
      },
      "source": [
        "df1[\"gender\"].replace({\"Female\":1,\"Male\":0},inplace=True) # repalce females with 1 AND MALE WITH ZERO"
      ],
      "execution_count": 29,
      "outputs": [
        {
          "output_type": "stream",
          "name": "stderr",
          "text": [
            "/usr/local/lib/python3.7/dist-packages/pandas/core/series.py:4582: SettingWithCopyWarning: \n",
            "A value is trying to be set on a copy of a slice from a DataFrame\n",
            "\n",
            "See the caveats in the documentation: https://pandas.pydata.org/pandas-docs/stable/user_guide/indexing.html#returning-a-view-versus-a-copy\n",
            "  method=method,\n"
          ]
        }
      ]
    },
    {
      "cell_type": "code",
      "metadata": {
        "colab": {
          "base_uri": "https://localhost:8080/"
        },
        "id": "xYHnn6zpjMbJ",
        "outputId": "0aa172e4-a163-4ad7-8e33-5146534b581f"
      },
      "source": [
        "df1.gender.unique()"
      ],
      "execution_count": 30,
      "outputs": [
        {
          "output_type": "execute_result",
          "data": {
            "text/plain": [
              "array([1, 0])"
            ]
          },
          "metadata": {},
          "execution_count": 30
        }
      ]
    },
    {
      "cell_type": "code",
      "metadata": {
        "colab": {
          "base_uri": "https://localhost:8080/"
        },
        "id": "CreAW-KZkeEh",
        "outputId": "5210d4c6-3e19-4bbd-dc06-2b5f9ceb57bd"
      },
      "source": [
        " print_col_unique_values(df1)"
      ],
      "execution_count": 31,
      "outputs": [
        {
          "output_type": "stream",
          "name": "stdout",
          "text": [
            "InternetService : ['DSL' 'Fiber optic' 'No']\n",
            "Contract : ['Month-to-month' 'One year' 'Two year']\n",
            "PaymentMethod : ['Electronic check' 'Mailed check' 'Bank transfer (automatic)'\n",
            " 'Credit card (automatic)']\n"
          ]
        }
      ]
    },
    {
      "cell_type": "code",
      "metadata": {
        "id": "Not-itMkiZY0"
      },
      "source": [
        "## Applying one hot encoding"
      ],
      "execution_count": null,
      "outputs": []
    },
    {
      "cell_type": "code",
      "metadata": {
        "id": "07jQM8jQjSip"
      },
      "source": [
        " df2=pd.get_dummies(data=df1,columns=[\"InternetService\",\"Contract\",\"PaymentMethod\"])\n"
      ],
      "execution_count": 32,
      "outputs": []
    },
    {
      "cell_type": "code",
      "metadata": {
        "colab": {
          "base_uri": "https://localhost:8080/"
        },
        "id": "9_cegOHwmNnE",
        "outputId": "b831c73f-599f-4570-84da-9cdb44c195bc"
      },
      "source": [
        "df2.columns"
      ],
      "execution_count": 33,
      "outputs": [
        {
          "output_type": "execute_result",
          "data": {
            "text/plain": [
              "Index(['gender', 'SeniorCitizen', 'Partner', 'Dependents', 'tenure',\n",
              "       'PhoneService', 'MultipleLines', 'OnlineSecurity', 'OnlineBackup',\n",
              "       'DeviceProtection', 'TechSupport', 'StreamingTV', 'StreamingMovies',\n",
              "       'PaperlessBilling', 'MonthlyCharges', 'TotalCharges', 'Churn',\n",
              "       'InternetService_DSL', 'InternetService_Fiber optic',\n",
              "       'InternetService_No', 'Contract_Month-to-month', 'Contract_One year',\n",
              "       'Contract_Two year', 'PaymentMethod_Bank transfer (automatic)',\n",
              "       'PaymentMethod_Credit card (automatic)',\n",
              "       'PaymentMethod_Electronic check', 'PaymentMethod_Mailed check'],\n",
              "      dtype='object')"
            ]
          },
          "metadata": {},
          "execution_count": 33
        }
      ]
    },
    {
      "cell_type": "code",
      "metadata": {
        "colab": {
          "base_uri": "https://localhost:8080/"
        },
        "id": "zliAU6QRmScp",
        "outputId": "ebe0d5da-4c53-40fa-a343-45cc7533b93a"
      },
      "source": [
        "df2.shape"
      ],
      "execution_count": 34,
      "outputs": [
        {
          "output_type": "execute_result",
          "data": {
            "text/plain": [
              "(7032, 27)"
            ]
          },
          "metadata": {},
          "execution_count": 34
        }
      ]
    },
    {
      "cell_type": "code",
      "metadata": {
        "id": "t-KAPNtAmbbk",
        "colab": {
          "base_uri": "https://localhost:8080/"
        },
        "outputId": "66053ba0-f6fd-49d7-a94a-a3fb193e6b0e"
      },
      "source": [
        "df2.dtypes"
      ],
      "execution_count": 35,
      "outputs": [
        {
          "output_type": "execute_result",
          "data": {
            "text/plain": [
              "gender                                       int64\n",
              "SeniorCitizen                                int64\n",
              "Partner                                      int64\n",
              "Dependents                                   int64\n",
              "tenure                                       int64\n",
              "PhoneService                                 int64\n",
              "MultipleLines                                int64\n",
              "OnlineSecurity                               int64\n",
              "OnlineBackup                                 int64\n",
              "DeviceProtection                             int64\n",
              "TechSupport                                  int64\n",
              "StreamingTV                                  int64\n",
              "StreamingMovies                              int64\n",
              "PaperlessBilling                             int64\n",
              "MonthlyCharges                             float64\n",
              "TotalCharges                               float64\n",
              "Churn                                        int64\n",
              "InternetService_DSL                          uint8\n",
              "InternetService_Fiber optic                  uint8\n",
              "InternetService_No                           uint8\n",
              "Contract_Month-to-month                      uint8\n",
              "Contract_One year                            uint8\n",
              "Contract_Two year                            uint8\n",
              "PaymentMethod_Bank transfer (automatic)      uint8\n",
              "PaymentMethod_Credit card (automatic)        uint8\n",
              "PaymentMethod_Electronic check               uint8\n",
              "PaymentMethod_Mailed check                   uint8\n",
              "dtype: object"
            ]
          },
          "metadata": {},
          "execution_count": 35
        }
      ]
    },
    {
      "cell_type": "code",
      "metadata": {
        "id": "2FJeh2-LpLb_"
      },
      "source": [
        "cols_to_scales=[\"tenure\",\"MonthlyCharges\",\"TotalCharges\"]  # in these columns we apply MinMaxScaler"
      ],
      "execution_count": 36,
      "outputs": []
    },
    {
      "cell_type": "code",
      "metadata": {
        "id": "OFwiaVY2pYAc"
      },
      "source": [
        "from sklearn.preprocessing import MinMaxScaler\n",
        "scaler=MinMaxScaler()"
      ],
      "execution_count": 37,
      "outputs": []
    },
    {
      "cell_type": "code",
      "metadata": {
        "id": "cnYaQebhpxAr"
      },
      "source": [
        "df2[cols_to_scales]=scaler.fit_transform(df2[cols_to_scales])"
      ],
      "execution_count": 38,
      "outputs": []
    },
    {
      "cell_type": "code",
      "metadata": {
        "id": "9SRBB5S0qM-2"
      },
      "source": [
        "X=df2.drop(\"Churn\",axis=\"columns\")\n",
        "y=df2[\"Churn\"]"
      ],
      "execution_count": 39,
      "outputs": []
    },
    {
      "cell_type": "code",
      "metadata": {
        "id": "8JCR7hmDqk-m"
      },
      "source": [
        "from sklearn.model_selection import train_test_split\n",
        "X_train,X_test,y_train,y_test=train_test_split(X,y,test_size=0.2,random_state=5)\n"
      ],
      "execution_count": 40,
      "outputs": []
    },
    {
      "cell_type": "code",
      "metadata": {
        "colab": {
          "base_uri": "https://localhost:8080/"
        },
        "id": "y_-KytVYrE75",
        "outputId": "7080e1ad-3652-42c3-ae0b-a82f5848adef"
      },
      "source": [
        "X_train.shape"
      ],
      "execution_count": 41,
      "outputs": [
        {
          "output_type": "execute_result",
          "data": {
            "text/plain": [
              "(5625, 26)"
            ]
          },
          "metadata": {},
          "execution_count": 41
        }
      ]
    },
    {
      "cell_type": "code",
      "metadata": {
        "colab": {
          "base_uri": "https://localhost:8080/"
        },
        "id": "E8oEf01WrJzg",
        "outputId": "d8cbf996-88b0-4f50-94b4-b6750c4311a8"
      },
      "source": [
        "X_test.shape"
      ],
      "execution_count": 42,
      "outputs": [
        {
          "output_type": "execute_result",
          "data": {
            "text/plain": [
              "(1407, 26)"
            ]
          },
          "metadata": {},
          "execution_count": 42
        }
      ]
    },
    {
      "cell_type": "code",
      "metadata": {
        "colab": {
          "base_uri": "https://localhost:8080/"
        },
        "id": "O1x117XwrY-S",
        "outputId": "6faa7d5d-00c4-440c-ad25-45889398e929"
      },
      "source": [
        "len(X_train.columns)"
      ],
      "execution_count": 43,
      "outputs": [
        {
          "output_type": "execute_result",
          "data": {
            "text/plain": [
              "26"
            ]
          },
          "metadata": {},
          "execution_count": 43
        }
      ]
    },
    {
      "cell_type": "code",
      "metadata": {
        "id": "CNPDrvrUrfF0"
      },
      "source": [
        "## Build a model using tensorflow/keras\n",
        "\n",
        "import tensorflow as tf\n",
        "\n",
        "from tensorflow import keras"
      ],
      "execution_count": 44,
      "outputs": []
    },
    {
      "cell_type": "code",
      "metadata": {
        "colab": {
          "base_uri": "https://localhost:8080/"
        },
        "id": "-bCVPKlMju0k",
        "outputId": "ec79bb34-aecd-4007-a025-bef9ebd6a3cd"
      },
      "source": [
        "\n",
        "model = keras.Sequential([\n",
        "    keras.layers.Dense(26, input_shape=(26,), activation='relu'),\n",
        "    keras.layers.Dense(15, activation='relu'),\n",
        "    keras.layers.Dense(1, activation='sigmoid')\n",
        "])\n",
        "\n",
        "# opt = keras.optimizers.Adam(learning_rate=0.01)\n",
        "\n",
        "model.compile(optimizer='adam',\n",
        "              loss='binary_crossentropy',\n",
        "              metrics=['accuracy'])\n",
        "\n",
        "model.fit(X_train, y_train, epochs=100)"
      ],
      "execution_count": 45,
      "outputs": [
        {
          "output_type": "stream",
          "name": "stdout",
          "text": [
            "Epoch 1/100\n",
            "176/176 [==============================] - 1s 2ms/step - loss: 0.4958 - accuracy: 0.7580\n",
            "Epoch 2/100\n",
            "176/176 [==============================] - 0s 2ms/step - loss: 0.4289 - accuracy: 0.7947\n",
            "Epoch 3/100\n",
            "176/176 [==============================] - 0s 2ms/step - loss: 0.4219 - accuracy: 0.8016\n",
            "Epoch 4/100\n",
            "176/176 [==============================] - 0s 2ms/step - loss: 0.4170 - accuracy: 0.8034\n",
            "Epoch 5/100\n",
            "176/176 [==============================] - 0s 2ms/step - loss: 0.4137 - accuracy: 0.8036\n",
            "Epoch 6/100\n",
            "176/176 [==============================] - 0s 2ms/step - loss: 0.4117 - accuracy: 0.8068\n",
            "Epoch 7/100\n",
            "176/176 [==============================] - 0s 2ms/step - loss: 0.4096 - accuracy: 0.8068\n",
            "Epoch 8/100\n",
            "176/176 [==============================] - 0s 2ms/step - loss: 0.4088 - accuracy: 0.8084\n",
            "Epoch 9/100\n",
            "176/176 [==============================] - 0s 2ms/step - loss: 0.4072 - accuracy: 0.8107\n",
            "Epoch 10/100\n",
            "176/176 [==============================] - 0s 2ms/step - loss: 0.4061 - accuracy: 0.8098\n",
            "Epoch 11/100\n",
            "176/176 [==============================] - 0s 2ms/step - loss: 0.4045 - accuracy: 0.8119\n",
            "Epoch 12/100\n",
            "176/176 [==============================] - 0s 2ms/step - loss: 0.4035 - accuracy: 0.8098\n",
            "Epoch 13/100\n",
            "176/176 [==============================] - 0s 2ms/step - loss: 0.4035 - accuracy: 0.8130\n",
            "Epoch 14/100\n",
            "176/176 [==============================] - 0s 2ms/step - loss: 0.4020 - accuracy: 0.8137\n",
            "Epoch 15/100\n",
            "176/176 [==============================] - 0s 2ms/step - loss: 0.4003 - accuracy: 0.8148\n",
            "Epoch 16/100\n",
            "176/176 [==============================] - 0s 2ms/step - loss: 0.3991 - accuracy: 0.8144\n",
            "Epoch 17/100\n",
            "176/176 [==============================] - 0s 2ms/step - loss: 0.4002 - accuracy: 0.8139\n",
            "Epoch 18/100\n",
            "176/176 [==============================] - 0s 2ms/step - loss: 0.3985 - accuracy: 0.8160\n",
            "Epoch 19/100\n",
            "176/176 [==============================] - 0s 2ms/step - loss: 0.3973 - accuracy: 0.8149\n",
            "Epoch 20/100\n",
            "176/176 [==============================] - 0s 2ms/step - loss: 0.3963 - accuracy: 0.8139\n",
            "Epoch 21/100\n",
            "176/176 [==============================] - 0s 2ms/step - loss: 0.3953 - accuracy: 0.8180\n",
            "Epoch 22/100\n",
            "176/176 [==============================] - 0s 2ms/step - loss: 0.3940 - accuracy: 0.8180\n",
            "Epoch 23/100\n",
            "176/176 [==============================] - 0s 2ms/step - loss: 0.3925 - accuracy: 0.8180\n",
            "Epoch 24/100\n",
            "176/176 [==============================] - 0s 2ms/step - loss: 0.3919 - accuracy: 0.8192\n",
            "Epoch 25/100\n",
            "176/176 [==============================] - 0s 2ms/step - loss: 0.3904 - accuracy: 0.8178\n",
            "Epoch 26/100\n",
            "176/176 [==============================] - 0s 2ms/step - loss: 0.3900 - accuracy: 0.8197\n",
            "Epoch 27/100\n",
            "176/176 [==============================] - 0s 2ms/step - loss: 0.3888 - accuracy: 0.8185\n",
            "Epoch 28/100\n",
            "176/176 [==============================] - 0s 2ms/step - loss: 0.3889 - accuracy: 0.8203\n",
            "Epoch 29/100\n",
            "176/176 [==============================] - 0s 2ms/step - loss: 0.3871 - accuracy: 0.8220\n",
            "Epoch 30/100\n",
            "176/176 [==============================] - 0s 2ms/step - loss: 0.3863 - accuracy: 0.8231\n",
            "Epoch 31/100\n",
            "176/176 [==============================] - 0s 2ms/step - loss: 0.3853 - accuracy: 0.8206\n",
            "Epoch 32/100\n",
            "176/176 [==============================] - 0s 2ms/step - loss: 0.3853 - accuracy: 0.8224\n",
            "Epoch 33/100\n",
            "176/176 [==============================] - 0s 2ms/step - loss: 0.3834 - accuracy: 0.8236\n",
            "Epoch 34/100\n",
            "176/176 [==============================] - 0s 2ms/step - loss: 0.3839 - accuracy: 0.8204\n",
            "Epoch 35/100\n",
            "176/176 [==============================] - 0s 2ms/step - loss: 0.3822 - accuracy: 0.8222\n",
            "Epoch 36/100\n",
            "176/176 [==============================] - 0s 2ms/step - loss: 0.3811 - accuracy: 0.8235\n",
            "Epoch 37/100\n",
            "176/176 [==============================] - 0s 2ms/step - loss: 0.3807 - accuracy: 0.8244\n",
            "Epoch 38/100\n",
            "176/176 [==============================] - 0s 2ms/step - loss: 0.3802 - accuracy: 0.8249\n",
            "Epoch 39/100\n",
            "176/176 [==============================] - 0s 2ms/step - loss: 0.3787 - accuracy: 0.8229\n",
            "Epoch 40/100\n",
            "176/176 [==============================] - 0s 2ms/step - loss: 0.3791 - accuracy: 0.8242\n",
            "Epoch 41/100\n",
            "176/176 [==============================] - 0s 2ms/step - loss: 0.3782 - accuracy: 0.8242\n",
            "Epoch 42/100\n",
            "176/176 [==============================] - 0s 2ms/step - loss: 0.3773 - accuracy: 0.8206\n",
            "Epoch 43/100\n",
            "176/176 [==============================] - 0s 2ms/step - loss: 0.3763 - accuracy: 0.8240\n",
            "Epoch 44/100\n",
            "176/176 [==============================] - 0s 2ms/step - loss: 0.3772 - accuracy: 0.8263\n",
            "Epoch 45/100\n",
            "176/176 [==============================] - 0s 2ms/step - loss: 0.3755 - accuracy: 0.8261\n",
            "Epoch 46/100\n",
            "176/176 [==============================] - 0s 2ms/step - loss: 0.3735 - accuracy: 0.8272\n",
            "Epoch 47/100\n",
            "176/176 [==============================] - 0s 2ms/step - loss: 0.3748 - accuracy: 0.8265\n",
            "Epoch 48/100\n",
            "176/176 [==============================] - 0s 2ms/step - loss: 0.3735 - accuracy: 0.8260\n",
            "Epoch 49/100\n",
            "176/176 [==============================] - 0s 2ms/step - loss: 0.3724 - accuracy: 0.8265\n",
            "Epoch 50/100\n",
            "176/176 [==============================] - 0s 2ms/step - loss: 0.3718 - accuracy: 0.8286\n",
            "Epoch 51/100\n",
            "176/176 [==============================] - 0s 2ms/step - loss: 0.3712 - accuracy: 0.8286\n",
            "Epoch 52/100\n",
            "176/176 [==============================] - 0s 2ms/step - loss: 0.3702 - accuracy: 0.8276\n",
            "Epoch 53/100\n",
            "176/176 [==============================] - 0s 2ms/step - loss: 0.3700 - accuracy: 0.8260\n",
            "Epoch 54/100\n",
            "176/176 [==============================] - 0s 2ms/step - loss: 0.3696 - accuracy: 0.8286\n",
            "Epoch 55/100\n",
            "176/176 [==============================] - 0s 2ms/step - loss: 0.3681 - accuracy: 0.8292\n",
            "Epoch 56/100\n",
            "176/176 [==============================] - 0s 2ms/step - loss: 0.3688 - accuracy: 0.8268\n",
            "Epoch 57/100\n",
            "176/176 [==============================] - 0s 2ms/step - loss: 0.3673 - accuracy: 0.8299\n",
            "Epoch 58/100\n",
            "176/176 [==============================] - 0s 2ms/step - loss: 0.3689 - accuracy: 0.8281\n",
            "Epoch 59/100\n",
            "176/176 [==============================] - 0s 2ms/step - loss: 0.3666 - accuracy: 0.8272\n",
            "Epoch 60/100\n",
            "176/176 [==============================] - 0s 2ms/step - loss: 0.3656 - accuracy: 0.8281\n",
            "Epoch 61/100\n",
            "176/176 [==============================] - 0s 2ms/step - loss: 0.3656 - accuracy: 0.8279\n",
            "Epoch 62/100\n",
            "176/176 [==============================] - 0s 2ms/step - loss: 0.3645 - accuracy: 0.8302\n",
            "Epoch 63/100\n",
            "176/176 [==============================] - 0s 2ms/step - loss: 0.3638 - accuracy: 0.8309\n",
            "Epoch 64/100\n",
            "176/176 [==============================] - 0s 2ms/step - loss: 0.3630 - accuracy: 0.8325\n",
            "Epoch 65/100\n",
            "176/176 [==============================] - 0s 2ms/step - loss: 0.3637 - accuracy: 0.8300\n",
            "Epoch 66/100\n",
            "176/176 [==============================] - 0s 2ms/step - loss: 0.3622 - accuracy: 0.8341\n",
            "Epoch 67/100\n",
            "176/176 [==============================] - 0s 2ms/step - loss: 0.3623 - accuracy: 0.8306\n",
            "Epoch 68/100\n",
            "176/176 [==============================] - 0s 2ms/step - loss: 0.3607 - accuracy: 0.8316\n",
            "Epoch 69/100\n",
            "176/176 [==============================] - 0s 2ms/step - loss: 0.3605 - accuracy: 0.8334\n",
            "Epoch 70/100\n",
            "176/176 [==============================] - 0s 2ms/step - loss: 0.3606 - accuracy: 0.8354\n",
            "Epoch 71/100\n",
            "176/176 [==============================] - 0s 2ms/step - loss: 0.3602 - accuracy: 0.8313\n",
            "Epoch 72/100\n",
            "176/176 [==============================] - 0s 2ms/step - loss: 0.3585 - accuracy: 0.8327\n",
            "Epoch 73/100\n",
            "176/176 [==============================] - 0s 2ms/step - loss: 0.3588 - accuracy: 0.8311\n",
            "Epoch 74/100\n",
            "176/176 [==============================] - 0s 2ms/step - loss: 0.3580 - accuracy: 0.8325\n",
            "Epoch 75/100\n",
            "176/176 [==============================] - 0s 2ms/step - loss: 0.3573 - accuracy: 0.8345\n",
            "Epoch 76/100\n",
            "176/176 [==============================] - 0s 2ms/step - loss: 0.3570 - accuracy: 0.8347\n",
            "Epoch 77/100\n",
            "176/176 [==============================] - 0s 2ms/step - loss: 0.3566 - accuracy: 0.8345\n",
            "Epoch 78/100\n",
            "176/176 [==============================] - 0s 2ms/step - loss: 0.3561 - accuracy: 0.8322\n",
            "Epoch 79/100\n",
            "176/176 [==============================] - 0s 2ms/step - loss: 0.3566 - accuracy: 0.8336\n",
            "Epoch 80/100\n",
            "176/176 [==============================] - 0s 2ms/step - loss: 0.3562 - accuracy: 0.8324\n",
            "Epoch 81/100\n",
            "176/176 [==============================] - 0s 2ms/step - loss: 0.3561 - accuracy: 0.8324\n",
            "Epoch 82/100\n",
            "176/176 [==============================] - 0s 2ms/step - loss: 0.3543 - accuracy: 0.8357\n",
            "Epoch 83/100\n",
            "176/176 [==============================] - 0s 2ms/step - loss: 0.3533 - accuracy: 0.8340\n",
            "Epoch 84/100\n",
            "176/176 [==============================] - 0s 2ms/step - loss: 0.3536 - accuracy: 0.8325\n",
            "Epoch 85/100\n",
            "176/176 [==============================] - 0s 2ms/step - loss: 0.3525 - accuracy: 0.8377\n",
            "Epoch 86/100\n",
            "176/176 [==============================] - 0s 2ms/step - loss: 0.3541 - accuracy: 0.8336\n",
            "Epoch 87/100\n",
            "176/176 [==============================] - 0s 2ms/step - loss: 0.3524 - accuracy: 0.8347\n",
            "Epoch 88/100\n",
            "176/176 [==============================] - 0s 2ms/step - loss: 0.3523 - accuracy: 0.8364\n",
            "Epoch 89/100\n",
            "176/176 [==============================] - 0s 2ms/step - loss: 0.3513 - accuracy: 0.8341\n",
            "Epoch 90/100\n",
            "176/176 [==============================] - 0s 2ms/step - loss: 0.3512 - accuracy: 0.8377\n",
            "Epoch 91/100\n",
            "176/176 [==============================] - 0s 2ms/step - loss: 0.3512 - accuracy: 0.8348\n",
            "Epoch 92/100\n",
            "176/176 [==============================] - 0s 2ms/step - loss: 0.3514 - accuracy: 0.8338\n",
            "Epoch 93/100\n",
            "176/176 [==============================] - 0s 2ms/step - loss: 0.3495 - accuracy: 0.8359\n",
            "Epoch 94/100\n",
            "176/176 [==============================] - 0s 2ms/step - loss: 0.3490 - accuracy: 0.8370\n",
            "Epoch 95/100\n",
            "176/176 [==============================] - 0s 2ms/step - loss: 0.3501 - accuracy: 0.8348\n",
            "Epoch 96/100\n",
            "176/176 [==============================] - 0s 2ms/step - loss: 0.3487 - accuracy: 0.8341\n",
            "Epoch 97/100\n",
            "176/176 [==============================] - 0s 2ms/step - loss: 0.3481 - accuracy: 0.8350\n",
            "Epoch 98/100\n",
            "176/176 [==============================] - 0s 2ms/step - loss: 0.3480 - accuracy: 0.8366\n",
            "Epoch 99/100\n",
            "176/176 [==============================] - 0s 2ms/step - loss: 0.3484 - accuracy: 0.8366\n",
            "Epoch 100/100\n",
            "176/176 [==============================] - 0s 2ms/step - loss: 0.3477 - accuracy: 0.8356\n"
          ]
        },
        {
          "output_type": "execute_result",
          "data": {
            "text/plain": [
              "<keras.callbacks.History at 0x7f87b9e8be90>"
            ]
          },
          "metadata": {},
          "execution_count": 45
        }
      ]
    },
    {
      "cell_type": "code",
      "metadata": {
        "colab": {
          "base_uri": "https://localhost:8080/"
        },
        "id": "E3Vybqo2j8IS",
        "outputId": "80c36b6f-57db-4497-a47f-ec02dd7c6532"
      },
      "source": [
        "model.evaluate(X_test, y_test)"
      ],
      "execution_count": 46,
      "outputs": [
        {
          "output_type": "stream",
          "name": "stdout",
          "text": [
            "44/44 [==============================] - 0s 1ms/step - loss: 0.4911 - accuracy: 0.7754\n"
          ]
        },
        {
          "output_type": "execute_result",
          "data": {
            "text/plain": [
              "[0.49114999175071716, 0.7754086852073669]"
            ]
          },
          "metadata": {},
          "execution_count": 46
        }
      ]
    },
    {
      "cell_type": "code",
      "metadata": {
        "colab": {
          "base_uri": "https://localhost:8080/"
        },
        "id": "nmrNWom3kB9o",
        "outputId": "aeb5dbb9-0039-4522-e942-0c0be6c6943c"
      },
      "source": [
        "yp = model.predict(X_test)\n",
        "yp[:5]"
      ],
      "execution_count": 47,
      "outputs": [
        {
          "output_type": "execute_result",
          "data": {
            "text/plain": [
              "array([[2.4586019e-01],\n",
              "       [5.8675867e-01],\n",
              "       [4.6184659e-04],\n",
              "       [8.7856472e-01],\n",
              "       [5.4005879e-01]], dtype=float32)"
            ]
          },
          "metadata": {},
          "execution_count": 47
        }
      ]
    },
    {
      "cell_type": "code",
      "metadata": {
        "id": "c_BySfBSkFJa"
      },
      "source": [
        "y_pred = []\n",
        "for element in yp:\n",
        "    if element > 0.5:\n",
        "        y_pred.append(1)\n",
        "    else:\n",
        "        y_pred.append(0)"
      ],
      "execution_count": 48,
      "outputs": []
    },
    {
      "cell_type": "code",
      "metadata": {
        "colab": {
          "base_uri": "https://localhost:8080/"
        },
        "id": "d37emVvCkKzN",
        "outputId": "2e38ecad-047c-410d-fb52-137802d43cc3"
      },
      "source": [
        "y_pred[:10]"
      ],
      "execution_count": 49,
      "outputs": [
        {
          "output_type": "execute_result",
          "data": {
            "text/plain": [
              "[0, 1, 0, 1, 1, 1, 0, 0, 0, 0]"
            ]
          },
          "metadata": {},
          "execution_count": 49
        }
      ]
    },
    {
      "cell_type": "code",
      "metadata": {
        "colab": {
          "base_uri": "https://localhost:8080/"
        },
        "id": "H-xbTiJqkNbR",
        "outputId": "a6cd9ac6-d4b9-4991-9113-af44a3fd30cf"
      },
      "source": [
        "y_test[:10]"
      ],
      "execution_count": 50,
      "outputs": [
        {
          "output_type": "execute_result",
          "data": {
            "text/plain": [
              "2660    0\n",
              "744     0\n",
              "5579    1\n",
              "64      1\n",
              "3287    1\n",
              "816     1\n",
              "2670    0\n",
              "5920    0\n",
              "1023    0\n",
              "6087    0\n",
              "Name: Churn, dtype: int64"
            ]
          },
          "metadata": {},
          "execution_count": 50
        }
      ]
    },
    {
      "cell_type": "code",
      "metadata": {
        "colab": {
          "base_uri": "https://localhost:8080/"
        },
        "id": "Ll0IJ9qbkQ_r",
        "outputId": "02ba98f5-e56f-4c65-b18d-bee90f85c504"
      },
      "source": [
        "from sklearn.metrics import confusion_matrix , classification_report\n",
        "\n",
        "print(classification_report(y_test,y_pred))"
      ],
      "execution_count": 51,
      "outputs": [
        {
          "output_type": "stream",
          "name": "stdout",
          "text": [
            "              precision    recall  f1-score   support\n",
            "\n",
            "           0       0.83      0.87      0.85       999\n",
            "           1       0.63      0.55      0.59       408\n",
            "\n",
            "    accuracy                           0.78      1407\n",
            "   macro avg       0.73      0.71      0.72      1407\n",
            "weighted avg       0.77      0.78      0.77      1407\n",
            "\n"
          ]
        }
      ]
    },
    {
      "cell_type": "code",
      "metadata": {
        "colab": {
          "base_uri": "https://localhost:8080/",
          "height": 459
        },
        "id": "lkQFGzAykT52",
        "outputId": "66130efe-95ef-4cbe-8590-580978c58cda"
      },
      "source": [
        "import seaborn as sn\n",
        "cm = tf.math.confusion_matrix(labels=y_test,predictions=y_pred)\n",
        "\n",
        "pyplot.figure(figsize = (10,7))\n",
        "sn.heatmap(cm, annot=True, fmt='d')\n",
        "pyplot.xlabel('Predicted')\n",
        "pyplot.ylabel('Truth')"
      ],
      "execution_count": 52,
      "outputs": [
        {
          "output_type": "execute_result",
          "data": {
            "text/plain": [
              "Text(69.0, 0.5, 'Truth')"
            ]
          },
          "metadata": {},
          "execution_count": 52
        },
        {
          "output_type": "display_data",
          "data": {
            "image/png": "[encoded data removed]",
            "text/plain": [
              "<Figure size 720x504 with 2 Axes>"
            ]
          },
          "metadata": {
            "needs_background": "light"
          }
        }
      ]
    }
  ]
}